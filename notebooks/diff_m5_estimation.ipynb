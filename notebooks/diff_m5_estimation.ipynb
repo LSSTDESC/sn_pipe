{
 "cells": [
  {
   "cell_type": "code",
   "execution_count": 4,
   "id": "472c97de",
   "metadata": {},
   "outputs": [],
   "source": [
    "import numpy as np\n",
    "import pandas as pd"
   ]
  },
  {
   "cell_type": "code",
   "execution_count": 5,
   "id": "327b3d0a",
   "metadata": {},
   "outputs": [],
   "source": [
    "dbDir = '../../DB_Files'"
   ]
  },
  {
   "cell_type": "code",
   "execution_count": 6,
   "id": "705e9834",
   "metadata": {},
   "outputs": [],
   "source": [
    "dbName = 'baseline_v3.3_10yrs.npy'"
   ]
  },
  {
   "cell_type": "code",
   "execution_count": 7,
   "id": "660164e1",
   "metadata": {},
   "outputs": [],
   "source": [
    "data = pd.DataFrame(np.load('{}/{}'.format(dbDir,dbName)))"
   ]
  },
  {
   "cell_type": "code",
   "execution_count": 8,
   "id": "56d144b7",
   "metadata": {},
   "outputs": [
    {
     "data": {
      "text/plain": [
       "2131089"
      ]
     },
     "execution_count": 8,
     "metadata": {},
     "output_type": "execute_result"
    }
   ],
   "source": [
    "len(data)"
   ]
  },
  {
   "cell_type": "code",
   "execution_count": 9,
   "id": "d57b9039",
   "metadata": {},
   "outputs": [],
   "source": [
    "idx = data['note'] == 'DD:COSMOS'\n",
    "sel = data[idx]"
   ]
  },
  {
   "cell_type": "code",
   "execution_count": 56,
   "id": "cdd7e6e2",
   "metadata": {},
   "outputs": [],
   "source": [
    "def coadd(grp):\n",
    "    \n",
    "    col = 'fiveSigmaDepth'\n",
    "    nvisits = len(grp)\n",
    "    m5_mean = grp[col].mean()\n",
    "    m5_std = grp[col].std()\n",
    "    if nvisits <= 2:\n",
    "        return pd.DataFrame()\n",
    "    \n",
    "    m5_coadd_visit = 1.25*np.log10(nvisits)+m5_mean\n",
    "    \n",
    "    m5_coadd = 1.25*np.log10(np.sum(10**(0.8*grp[col])))\n",
    "    \n",
    "    return pd.DataFrame({'m5_coadd':[m5_coadd],'m5_coadd_visit':[m5_coadd_visit],'nvisits':[nvisits],'m5_mean':[m5_mean],'m5_std':[m5_std]})\n",
    "    \n",
    "    \n",
    "    "
   ]
  },
  {
   "cell_type": "code",
   "execution_count": 57,
   "id": "a703839d",
   "metadata": {},
   "outputs": [],
   "source": [
    "tt = sel.groupby(['night','band']).apply(lambda x: coadd(x)).reset_index()"
   ]
  },
  {
   "cell_type": "code",
   "execution_count": 58,
   "id": "41f9d065",
   "metadata": {},
   "outputs": [],
   "source": [
    "tt['diff'] = tt['m5_coadd']-tt['m5_coadd_visit']"
   ]
  },
  {
   "cell_type": "code",
   "execution_count": 59,
   "id": "e02065bf",
   "metadata": {},
   "outputs": [
    {
     "data": {
      "text/html": [
       "<div>\n",
       "<style scoped>\n",
       "    .dataframe tbody tr th:only-of-type {\n",
       "        vertical-align: middle;\n",
       "    }\n",
       "\n",
       "    .dataframe tbody tr th {\n",
       "        vertical-align: top;\n",
       "    }\n",
       "\n",
       "    .dataframe thead th {\n",
       "        text-align: right;\n",
       "    }\n",
       "</style>\n",
       "<table border=\"1\" class=\"dataframe\">\n",
       "  <thead>\n",
       "    <tr style=\"text-align: right;\">\n",
       "      <th></th>\n",
       "      <th>night</th>\n",
       "      <th>band</th>\n",
       "      <th>level_2</th>\n",
       "      <th>m5_coadd</th>\n",
       "      <th>m5_coadd_visit</th>\n",
       "      <th>nvisits</th>\n",
       "      <th>m5_mean</th>\n",
       "      <th>m5_std</th>\n",
       "      <th>diff</th>\n",
       "    </tr>\n",
       "  </thead>\n",
       "  <tbody>\n",
       "    <tr>\n",
       "      <th>0</th>\n",
       "      <td>3</td>\n",
       "      <td>g</td>\n",
       "      <td>0</td>\n",
       "      <td>25.234560</td>\n",
       "      <td>25.233912</td>\n",
       "      <td>10.0</td>\n",
       "      <td>23.983912</td>\n",
       "      <td>0.027630</td>\n",
       "      <td>0.000648</td>\n",
       "    </tr>\n",
       "    <tr>\n",
       "      <th>1</th>\n",
       "      <td>3</td>\n",
       "      <td>i</td>\n",
       "      <td>0</td>\n",
       "      <td>25.304730</td>\n",
       "      <td>25.302662</td>\n",
       "      <td>20.0</td>\n",
       "      <td>23.676375</td>\n",
       "      <td>0.048702</td>\n",
       "      <td>0.002067</td>\n",
       "    </tr>\n",
       "    <tr>\n",
       "      <th>2</th>\n",
       "      <td>3</td>\n",
       "      <td>r</td>\n",
       "      <td>0</td>\n",
       "      <td>25.529076</td>\n",
       "      <td>25.527594</td>\n",
       "      <td>20.0</td>\n",
       "      <td>23.901307</td>\n",
       "      <td>0.040934</td>\n",
       "      <td>0.001482</td>\n",
       "    </tr>\n",
       "    <tr>\n",
       "      <th>3</th>\n",
       "      <td>3</td>\n",
       "      <td>y</td>\n",
       "      <td>0</td>\n",
       "      <td>23.816966</td>\n",
       "      <td>23.814829</td>\n",
       "      <td>18.0</td>\n",
       "      <td>22.245738</td>\n",
       "      <td>0.049607</td>\n",
       "      <td>0.002137</td>\n",
       "    </tr>\n",
       "    <tr>\n",
       "      <th>4</th>\n",
       "      <td>3</td>\n",
       "      <td>z</td>\n",
       "      <td>0</td>\n",
       "      <td>24.967500</td>\n",
       "      <td>24.966743</td>\n",
       "      <td>24.0</td>\n",
       "      <td>23.241479</td>\n",
       "      <td>0.029392</td>\n",
       "      <td>0.000757</td>\n",
       "    </tr>\n",
       "    <tr>\n",
       "      <th>...</th>\n",
       "      <td>...</td>\n",
       "      <td>...</td>\n",
       "      <td>...</td>\n",
       "      <td>...</td>\n",
       "      <td>...</td>\n",
       "      <td>...</td>\n",
       "      <td>...</td>\n",
       "      <td>...</td>\n",
       "      <td>...</td>\n",
       "    </tr>\n",
       "    <tr>\n",
       "      <th>2196</th>\n",
       "      <td>3649</td>\n",
       "      <td>g</td>\n",
       "      <td>0</td>\n",
       "      <td>25.881718</td>\n",
       "      <td>25.881090</td>\n",
       "      <td>10.0</td>\n",
       "      <td>24.631090</td>\n",
       "      <td>0.027409</td>\n",
       "      <td>0.000628</td>\n",
       "    </tr>\n",
       "    <tr>\n",
       "      <th>2197</th>\n",
       "      <td>3649</td>\n",
       "      <td>i</td>\n",
       "      <td>0</td>\n",
       "      <td>25.478329</td>\n",
       "      <td>25.476223</td>\n",
       "      <td>20.0</td>\n",
       "      <td>23.849935</td>\n",
       "      <td>0.049283</td>\n",
       "      <td>0.002106</td>\n",
       "    </tr>\n",
       "    <tr>\n",
       "      <th>2198</th>\n",
       "      <td>3649</td>\n",
       "      <td>r</td>\n",
       "      <td>0</td>\n",
       "      <td>25.900588</td>\n",
       "      <td>25.896614</td>\n",
       "      <td>20.0</td>\n",
       "      <td>24.270327</td>\n",
       "      <td>0.067083</td>\n",
       "      <td>0.003973</td>\n",
       "    </tr>\n",
       "    <tr>\n",
       "      <th>2199</th>\n",
       "      <td>3649</td>\n",
       "      <td>y</td>\n",
       "      <td>0</td>\n",
       "      <td>24.040593</td>\n",
       "      <td>24.034265</td>\n",
       "      <td>18.0</td>\n",
       "      <td>22.465174</td>\n",
       "      <td>0.086850</td>\n",
       "      <td>0.006328</td>\n",
       "    </tr>\n",
       "    <tr>\n",
       "      <th>2200</th>\n",
       "      <td>3649</td>\n",
       "      <td>z</td>\n",
       "      <td>0</td>\n",
       "      <td>25.075727</td>\n",
       "      <td>25.075124</td>\n",
       "      <td>24.0</td>\n",
       "      <td>23.349860</td>\n",
       "      <td>0.026150</td>\n",
       "      <td>0.000603</td>\n",
       "    </tr>\n",
       "  </tbody>\n",
       "</table>\n",
       "<p>2201 rows × 9 columns</p>\n",
       "</div>"
      ],
      "text/plain": [
       "      night band  level_2   m5_coadd  m5_coadd_visit  nvisits    m5_mean  \\\n",
       "0         3    g        0  25.234560       25.233912     10.0  23.983912   \n",
       "1         3    i        0  25.304730       25.302662     20.0  23.676375   \n",
       "2         3    r        0  25.529076       25.527594     20.0  23.901307   \n",
       "3         3    y        0  23.816966       23.814829     18.0  22.245738   \n",
       "4         3    z        0  24.967500       24.966743     24.0  23.241479   \n",
       "...     ...  ...      ...        ...             ...      ...        ...   \n",
       "2196   3649    g        0  25.881718       25.881090     10.0  24.631090   \n",
       "2197   3649    i        0  25.478329       25.476223     20.0  23.849935   \n",
       "2198   3649    r        0  25.900588       25.896614     20.0  24.270327   \n",
       "2199   3649    y        0  24.040593       24.034265     18.0  22.465174   \n",
       "2200   3649    z        0  25.075727       25.075124     24.0  23.349860   \n",
       "\n",
       "        m5_std      diff  \n",
       "0     0.027630  0.000648  \n",
       "1     0.048702  0.002067  \n",
       "2     0.040934  0.001482  \n",
       "3     0.049607  0.002137  \n",
       "4     0.029392  0.000757  \n",
       "...        ...       ...  \n",
       "2196  0.027409  0.000628  \n",
       "2197  0.049283  0.002106  \n",
       "2198  0.067083  0.003973  \n",
       "2199  0.086850  0.006328  \n",
       "2200  0.026150  0.000603  \n",
       "\n",
       "[2201 rows x 9 columns]"
      ]
     },
     "execution_count": 59,
     "metadata": {},
     "output_type": "execute_result"
    }
   ],
   "source": [
    "tt"
   ]
  },
  {
   "cell_type": "code",
   "execution_count": 60,
   "id": "5a30af41",
   "metadata": {},
   "outputs": [],
   "source": [
    "import matplotlib.pyplot as plt"
   ]
  },
  {
   "cell_type": "code",
   "execution_count": 80,
   "id": "ca2b5021",
   "metadata": {},
   "outputs": [],
   "source": [
    "def plot_diff(data, band,varx='m5_std',vary='diff',fig=None, ax=None):\n",
    "    \n",
    "    if fig is None:\n",
    "        fig, ax = plt.subplots()\n",
    "        \n",
    "    print(band)\n",
    "    idx = data['band'].isin([*band])\n",
    "    ax.plot(selb[varx],selb[vary],'k.',label=band)\n",
    "    y_params = np.polyfit(selb[varx], selb[vary], 2)  #fit \n",
    "    print(band,y_params)\n",
    "    min_std = selb[varx].min()\n",
    "    max_std = selb[varx].max()\n",
    "    m5 = np.arange(min_std,max_std,0.01)\n",
    "    vv = y_params[0]*m5**2+y_params[1]*m5+y_params[2]\n",
    "    ax.plot(m5,vv,color='r')\n",
    "    ax.legend()"
   ]
  },
  {
   "cell_type": "code",
   "execution_count": 83,
   "id": "34dc56c0",
   "metadata": {},
   "outputs": [
    {
     "name": "stdout",
     "output_type": "stream",
     "text": [
      "  band      diff\n",
      "0    g  0.008902\n",
      "1    i  0.007270\n",
      "2    r  0.008240\n",
      "3    u  0.008155\n",
      "4    y  0.007521\n",
      "5    z  0.007818\n",
      "ugrizy\n",
      "ugrizy [ 0.74036216  0.02419808 -0.00086993]\n"
     ]
    },
    {
     "data": {
      "image/png": "[encoded data removed]",
      "text/plain": [
       "<Figure size 640x480 with 1 Axes>"
      ]
     },
     "metadata": {},
     "output_type": "display_data"
    }
   ],
   "source": [
    "tb = tt.groupby(['band'])['diff'].mean().reset_index()\n",
    "print(tb)\n",
    "plot_diff(tt,band='ugrizy')"
   ]
  },
  {
   "cell_type": "code",
   "execution_count": null,
   "id": "82c81308",
   "metadata": {},
   "outputs": [],
   "source": []
  },
  {
   "cell_type": "code",
   "execution_count": null,
   "id": "e9c172f7",
   "metadata": {},
   "outputs": [],
   "source": []
  }
 ],
 "metadata": {
  "kernelspec": {
   "display_name": "Python 3 (ipykernel)",
   "language": "python",
   "name": "python3"
  },
  "language_info": {
   "codemirror_mode": {
    "name": "ipython",
    "version": 3
   },
   "file_extension": ".py",
   "mimetype": "text/x-python",
   "name": "python",
   "nbconvert_exporter": "python",
   "pygments_lexer": "ipython3",
   "version": "3.9.12"
  }
 },
 "nbformat": 4,
 "nbformat_minor": 5
}
