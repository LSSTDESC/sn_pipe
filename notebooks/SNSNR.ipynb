{
 "cells": [
  {
   "cell_type": "markdown",
   "metadata": {},
   "source": [
    "# Supernova SNR (aka Detection Rate) metric\n",
    "\n",
    "This metric corresponds to the detection rate of a faint [(x1,color) = (-2.0,0.2)] supernovae. It is estimated by comparing,at a given time MJDcurcur,the Signal-to-Noise Ratio (SNR) of a supernovae with T0=MJDcurcur -10 to the SNR one would have with a regular cadence SNRrefref(mean value of the corresponding period of study) : if SNR ≥≥ SNRrefref, the supernovae can be detected.This metric is sensitive to internight gap variations.\n",
    "\n",
    "Input parameters\n",
    "\n",
    "- band\n",
    "- z : redshift value for the study\n",
    "- Li_files : list of npy files with light curves\n",
    "- mag_to_flux : list of npy files with mag to flux conversion\n",
    "- config_fake : dict of parameters to simulate \"fake\" observations (to estimate SNRrefref)\n",
    "\n"
   ]
  },
  {
   "cell_type": "markdown",
   "metadata": {},
   "source": [
    "## Imports"
   ]
  },
  {
   "cell_type": "code",
   "execution_count": 1,
   "metadata": {},
   "outputs": [],
   "source": [
    "import lsst.sims.maf.metricBundles as metricBundles\n",
    "import lsst.sims.maf.slicers as slicers\n",
    "import lsst.sims.maf.db as db\n",
    "import lsst.sims.maf.utils as utils\n",
    "import sqlite3\n",
    "import numpy as np\n",
    "from sn_metrics.sn_snr_metric import SNSNRMetric\n",
    "from sn_tools.sn_cadence_tools import ReferenceData\n",
    "import sn_plotter_metrics.snrPlot as sn_plot"
   ]
  },
  {
   "cell_type": "markdown",
   "metadata": {},
   "source": [
    "## DB file choice"
   ]
  },
  {
   "cell_type": "code",
   "execution_count": 2,
   "metadata": {},
   "outputs": [
    {
     "name": "stdout",
     "output_type": "stream",
     "text": [
      "Cannot access Config table to retrieve runLength; using default 10 years\n"
     ]
    }
   ],
   "source": [
    "dbName = 'descddf_v1.5_10yrs.db'\n",
    "dbFile = '/home/philippe/LSST/DB_Files/{}'.format(dbName)\n",
    "opsimdb = db.OpsimDatabase(dbFile)\n",
    "version = opsimdb.opsimVersion\n",
    "#propinfo, proptags = opsimdb.fetchPropInfo()\n",
    "#print('proptags and propinfo', proptags, propinfo)\n",
    "runLength = opsimdb.fetchRunLength()"
   ]
  },
  {
   "cell_type": "markdown",
   "metadata": {},
   "source": [
    "## Parameter choice (field type, bands, z, ...)"
   ]
  },
  {
   "cell_type": "code",
   "execution_count": 15,
   "metadata": {},
   "outputs": [
    {
     "name": "stdout",
     "output_type": "stream",
     "text": [
      "No proposal table available - no proposalIds have been assigned.\n",
      "proptags and propinfo {} {}\n",
      "No WFD proposals found\n"
     ]
    }
   ],
   "source": [
    "fieldtype='WFD' #fieldtype: DD or WFD\n",
    "\n",
    "propinfo, proptags = opsimdb.fetchPropInfo()\n",
    "print('proptags and propinfo', proptags, propinfo)\n",
    "\n",
    "sqlconstraint = opsimdb.createSQLWhere(fieldtype, proptags)\n",
    "\n",
    "if fieldtype == 'DD':\n",
    "    coadd = True\n",
    "    fracmin = 0.05\n",
    "    fracmax = 1.0\n",
    "if fieldtype == 'WFD':\n",
    "    coadd = False\n",
    "    fracmin = 0.05\n",
    "    fracmax = 1.0\n",
    "    \n",
    "Li_files = ['../reference_files/Li_SNCosmo_-2.0_0.2.npy']\n",
    "mag_to_flux_files = ['../reference_files/Mag_to_Flux_SNCosmo.npy']\n",
    "names_ref = ['SNCosmo']\n",
    "fake_file = '../input/Fake_cadence/Fake_cadence_snrmetric.yaml'\n",
    "\n",
    "bands = 'r'\n",
    "z=0.3\n",
    "nside = 64"
   ]
  },
  {
   "cell_type": "markdown",
   "metadata": {},
   "source": [
    "## Define slicer"
   ]
  },
  {
   "cell_type": "code",
   "execution_count": 16,
   "metadata": {},
   "outputs": [
    {
     "name": "stdout",
     "output_type": "stream",
     "text": [
      "Healpix slicer using NSIDE=64, approximate resolution 54.967783 arcminutes\n"
     ]
    }
   ],
   "source": [
    "slicer = slicers.HealpixSlicer(nside=nside)"
   ]
  },
  {
   "cell_type": "markdown",
   "metadata": {},
   "source": [
    "## Make MAF bundle of metrics"
   ]
  },
  {
   "cell_type": "code",
   "execution_count": 17,
   "metadata": {},
   "outputs": [],
   "source": [
    "bundles=[]\n",
    "names = []\n",
    "sql_i = '(fieldRA >= 0.) AND (fieldRA<36.)'\n",
    "sql_i += ' AND (fieldDec >=-30.) AND (fieldDec<0.) '\n",
    "for band in bands:\n",
    "    #sql_i = sqlconstraint+' AND '\n",
    "    sql_i += 'AND filter = \"%s\"' % (band)\n",
    "\n",
    "    lim_sn = ReferenceData(Li_files, mag_to_flux_files, band, z)\n",
    "\n",
    "    metric = SNSNRMetric(lim_sn=lim_sn, names_ref=names_ref,fake_file=fake_file, coadd=coadd, z=z,season=[2])\n",
    "    bundles.append(metricBundles.MetricBundle(metric, slicer, sql_i))\n",
    "    names.append(band)\n",
    "\n",
    "bdict = dict(zip(names, bundles)) #bundle dict"
   ]
  },
  {
   "cell_type": "markdown",
   "metadata": {},
   "source": [
    "## Run the bundle of metrics"
   ]
  },
  {
   "cell_type": "code",
   "execution_count": 18,
   "metadata": {},
   "outputs": [
    {
     "name": "stdout",
     "output_type": "stream",
     "text": [
      "Querying database SummaryAllProps with constraint (fieldRA >= 0.) AND (fieldRA<36.) AND (fieldDec >=-30.) AND (fieldDec<0.) AND filter = \"r\" for columns ['observationStartMJD', 'visitExposureTime', 'visitTime', 'seeingFwhmEff', 'numExposures', 'filter', 'seeingFwhmGeom', 'fiveSigmaDepth', 'fieldDec', 'fieldRA', 'observationId', 'night']\n",
      "Found 23736 visits\n",
      "Running:  ['r']\n",
      "Completed metric generation.\n",
      "Running reduce methods.\n",
      "Running summary statistics.\n",
      "Completed.\n"
     ]
    }
   ],
   "source": [
    "outDir = '{}_Cadence'.format(dbName)\n",
    "resultsDb = db.ResultsDb(outDir=outDir)\n",
    "mbg = metricBundles.MetricBundleGroup(bdict, opsimdb,\n",
    "                                          outDir=outDir, resultsDb=resultsDb)\n",
    "\n",
    "mbg.runAll()"
   ]
  },
  {
   "cell_type": "markdown",
   "metadata": {},
   "source": [
    "## Display the results"
   ]
  },
  {
   "cell_type": "code",
   "execution_count": 24,
   "metadata": {},
   "outputs": [
    {
     "data": {
      "image/png": "[encoded data removed]",
      "text/plain": [
       "<Figure size 432x288 with 2 Axes>"
      ]
     },
     "metadata": {
      "needs_background": "light"
     },
     "output_type": "display_data"
    },
    {
     "data": {
      "image/png": "[encoded data removed]",
      "text/plain": [
       "<Figure size 576x432 with 1 Axes>"
      ]
     },
     "metadata": {
      "needs_background": "light"
     },
     "output_type": "display_data"
    }
   ],
   "source": [
    "%matplotlib inline\n",
    "import pandas as pd\n",
    "for band, val in bdict.items():\n",
    "    metValues = val.metricValues[~val.metricValues.mask]\n",
    "    res = pd.DataFrame()\n",
    "    for vals in metValues:\n",
    "        #print(type(vals))\n",
    "        if vals is not None:\n",
    "            res = pd.concat((res,vals))\n",
    "        \"\"\"\"\n",
    "            if res is None:\n",
    "                res = vals\n",
    "            else:\n",
    "                res = np.concatenate((res, vals))\n",
    "        \"\"\"\n",
    "    #res = np.unique(res)\n",
    "\n",
    "    res = res.to_records(index=False)\n",
    "    sn_plot.detecFracPlot(res,nside, names_ref)\n",
    "\n",
    "    sn_plot.detecFracHist(res, names_ref)"
   ]
  },
  {
   "cell_type": "code",
   "execution_count": null,
   "metadata": {},
   "outputs": [],
   "source": []
  }
 ],
 "metadata": {
  "kernelspec": {
   "display_name": "Python 3",
   "language": "python",
   "name": "python3"
  },
  "language_info": {
   "codemirror_mode": {
    "name": "ipython",
    "version": 3
   },
   "file_extension": ".py",
   "mimetype": "text/x-python",
   "name": "python",
   "nbconvert_exporter": "python",
   "pygments_lexer": "ipython3",
   "version": "3.7.6"
  }
 },
 "nbformat": 4,
 "nbformat_minor": 2
}
